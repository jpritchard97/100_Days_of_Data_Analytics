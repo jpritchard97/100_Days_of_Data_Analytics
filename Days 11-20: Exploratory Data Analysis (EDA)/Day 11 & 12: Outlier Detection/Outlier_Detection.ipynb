{
 "cells": [
  {
   "cell_type": "markdown",
   "metadata": {},
   "source": [
    "# Day 11-12: Outlier Detection and Removal\n",
    "\n",
    "## Task:\n",
    "- Identify and remove outliers from the dataset\n",
    "\n",
    "## Description: \n",
    "- Use statistical methods or visualisation techniques to detect outliers and remove them from the dataset."
   ]
  },
  {
   "cell_type": "markdown",
   "metadata": {},
   "source": [
    "## How Outliers are Caused?\n",
    "\n",
    "Outliers can be caused by a variety of factors, and they often result from genuine variability in the data or from errors in data collection, measurement, or recording. Some common causes of outliers are:\n",
    "\n",
    "- **Measurement errors**: Errors in data collection or measurement processes can lead to outliers.\n",
    "\n",
    "- **Sampling errors**: In some cases, outliers can arise due to issues with the sampling process.\n",
    "\n",
    "- **Natural variability**: Inherent variability in certain phenomena can also lead to outliers. Some systems may exhibit extreme values due to the nature of the process being studied.\n",
    "\n",
    "- **Data entry errors**: Human errors during data entry can introduce outliers.\n",
    "\n",
    "- **Experimental errors**: In experimental settings, anomalies may occur due to uncontrolled factors, equipment malfunctions, or unexpected events.\n",
    "\n",
    "- **Sampling from multiple populations**: Data is inadvertently combined from multiple populations with different characteristics.\n",
    "\n",
    "- **Intentional outliers**: Outliers are introduced intentionally to test the robustness of statistical methods."
   ]
  },
  {
   "cell_type": "markdown",
   "metadata": {},
   "source": [
    "## Non-ML Outlier Detection Methods\n",
    "\n",
    "**Visualisation**: \n",
    "\n",
    "- Box plots: It captures the summary of the data effectively and efficiently with only a simple box and whiskers. Boxplot summarizes sample data using 25th, 50th, and 75th percentiles. I can just get insights(quartiles, median, and outliers) into the dataset by just looking at its boxplot.\n",
    "\n",
    "- Scatter plots: It is used when you have paired numerical data and when your dependent variable has multiple values for each reading independent variable, or when trying to determine the relationship between the two variables. In the process of utilizing the scatter plot, one can also use it for outlier detection.\n",
    "\n",
    "**Z-Score**:\n",
    "- Z- Score is also called a standard score. This value/score helps to understand that how far is the data point from the mean. And after setting up a threshold value one can utilize z score values of data points to define the outliers.\n",
    "\n",
    "**IQR (Inter Quartile Range)**:\n",
    "- IQR approach to finding the outliers is the most commonly used and most trusted approach used in the research field."
   ]
  },
  {
   "cell_type": "markdown",
   "metadata": {},
   "source": [
    "## Machine Learning Outlier Detection Methods:\n",
    "- **Isolation Forest**: An algorithm that isolates observations by randomly selecting a feature and then randomly selecting a split value between the maximum and minimum values of the selected feature.\n",
    "\n",
    "- **Local Outlier Factor (LOF)**: A method for detecting outliers based on the local density deviation of a given data point with respect to its neighbors.\n",
    "\n",
    "- **One-Class SVM**: A support vector machine algorithm that learns a decision function for novelty detection: classifying new data as similar or different to the training set.\n",
    "\n",
    "- **Elliptic Envelope**: A method that fits a robust covariance estimate to the data, and then fits an ellipse to the central data points, which should be less influenced by outliers.\n",
    "\n",
    "- **DBSCAN (Density-Based Spatial Clustering of Applications with Noise)**: A density-based clustering algorithm that can be used for outlier detection by identifying points that are in low-density regions.\n",
    "\n",
    "- **HBOS (Histogram-based Outlier Score)**: A method that divides the feature space into bins and calculates the density in each bin to assign outlier scores.\n",
    "\n",
    "- **Autoencoder**: An unsupervised neural network architecture that learns to encode input data into a lower-dimensional space and then reconstruct it. Outliers are detected based on reconstruction error.\n",
    "\n",
    "- **K Nearest Neighbors (KNN)**: By considering the distance of a point to its k nearest neighbors, points that are significantly farther away may be considered outliers."
   ]
  },
  {
   "cell_type": "code",
   "execution_count": 69,
   "metadata": {},
   "outputs": [],
   "source": [
    "# Import Libraries\n",
    "import pandas as pd\n",
    "import numpy as np\n",
    "import sklearn\n",
    "from sklearn.datasets import load_diabetes\n",
    "import matplotlib.pyplot as plt"
   ]
  },
  {
   "cell_type": "markdown",
   "metadata": {},
   "source": [
    "## Importing the Dataset"
   ]
  },
  {
   "cell_type": "code",
   "execution_count": 70,
   "metadata": {},
   "outputs": [
    {
     "name": "stdout",
     "output_type": "stream",
     "text": [
      "        age       sex       bmi        bp        s1        s2        s3  \\\n",
      "0  0.038076  0.050680  0.061696  0.021872 -0.044223 -0.034821 -0.043401   \n",
      "1 -0.001882 -0.044642 -0.051474 -0.026328 -0.008449 -0.019163  0.074412   \n",
      "2  0.085299  0.050680  0.044451 -0.005670 -0.045599 -0.034194 -0.032356   \n",
      "3 -0.089063 -0.044642 -0.011595 -0.036656  0.012191  0.024991 -0.036038   \n",
      "4  0.005383 -0.044642 -0.036385  0.021872  0.003935  0.015596  0.008142   \n",
      "\n",
      "         s4        s5        s6  \n",
      "0 -0.002592  0.019907 -0.017646  \n",
      "1 -0.039493 -0.068332 -0.092204  \n",
      "2 -0.002592  0.002861 -0.025930  \n",
      "3  0.034309  0.022688 -0.009362  \n",
      "4 -0.002592 -0.031988 -0.046641  \n"
     ]
    }
   ],
   "source": [
    "# Load the dataset\n",
    "diabetics = load_diabetes()\n",
    "\n",
    "# Create the dataframe\n",
    "column_name = diabetics.feature_names\n",
    "df_diabetics = pd.DataFrame(diabetics.data)\n",
    "df_diabetics.columns = column_name\n",
    "print(df_diabetics.head())"
   ]
  },
  {
   "cell_type": "markdown",
   "metadata": {},
   "source": [
    "## Visualisation of Outliers (Box Plots)"
   ]
  },
  {
   "cell_type": "code",
   "execution_count": 71,
   "metadata": {},
   "outputs": [
    {
     "name": "stderr",
     "output_type": "stream",
     "text": [
      "/Library/Frameworks/Python.framework/Versions/3.12/lib/python3.12/site-packages/seaborn/categorical.py:640: FutureWarning: SeriesGroupBy.grouper is deprecated and will be removed in a future version of pandas.\n",
      "  positions = grouped.grouper.result_index.to_numpy(dtype=float)\n"
     ]
    },
    {
     "data": {
      "text/plain": [
       "<Axes: ylabel='bmi'>"
      ]
     },
     "execution_count": 71,
     "metadata": {},
     "output_type": "execute_result"
    },
    {
     "data": {
      "image/png": "[encoded data removed]",
      "text/plain": [
       "<Figure size 640x480 with 1 Axes>"
      ]
     },
     "metadata": {},
     "output_type": "display_data"
    }
   ],
   "source": [
    "# Box plot\n",
    "import seaborn as sns\n",
    "sns.boxplot(df_diabetics['bmi'])"
   ]
  },
  {
   "cell_type": "markdown",
   "metadata": {},
   "source": [
    "In the above graph, can clearly see that values above 10 are acting as outliers."
   ]
  },
  {
   "cell_type": "code",
   "execution_count": 72,
   "metadata": {},
   "outputs": [
    {
     "name": "stderr",
     "output_type": "stream",
     "text": [
      "/Library/Frameworks/Python.framework/Versions/3.12/lib/python3.12/site-packages/seaborn/categorical.py:640: FutureWarning: SeriesGroupBy.grouper is deprecated and will be removed in a future version of pandas.\n",
      "  positions = grouped.grouper.result_index.to_numpy(dtype=float)\n"
     ]
    },
    {
     "data": {
      "image/png": "[encoded data removed]",
      "text/plain": [
       "<Figure size 640x480 with 1 Axes>"
      ]
     },
     "metadata": {},
     "output_type": "display_data"
    }
   ],
   "source": [
    "# Create a function to remove outliers\n",
    "def removal_box_plot(df, column, threshold):\n",
    "    \n",
    "    removed_outliers = df[df[column] <= threshold]\n",
    "\n",
    "    sns.boxplot(removed_outliers[column])\n",
    "    plt.title(f'Box Plot Without Outliers of {column}')\n",
    "    plt.show()\n",
    "    return removed_outliers\n",
    "\n",
    "threshold_value = 0.12\n",
    "\n",
    "no_outliers = removal_box_plot(df_diabetics, 'bmi', threshold_value)"
   ]
  },
  {
   "cell_type": "markdown",
   "metadata": {},
   "source": [
    "## Z-Score"
   ]
  },
  {
   "cell_type": "code",
   "execution_count": 73,
   "metadata": {},
   "outputs": [
    {
     "name": "stdout",
     "output_type": "stream",
     "text": [
      "0      0.800500\n",
      "1      0.039567\n",
      "2      1.793307\n",
      "3      1.872441\n",
      "4      0.113172\n",
      "         ...   \n",
      "437    0.876870\n",
      "438    0.115937\n",
      "439    0.876870\n",
      "440    0.956004\n",
      "441    0.956004\n",
      "Name: age, Length: 442, dtype: float64\n"
     ]
    }
   ],
   "source": [
    "# Library import\n",
    "from scipy import stats\n",
    "\n",
    "# Calculate the z-scores for the 'age' column in the 'df_diabetics' DataFrame and store them in variable 'z'\n",
    "z = np.abs(stats.zscore(df_diabetics['age']))\n",
    "# Print the calculated z-scores\n",
    "print(z)"
   ]
  },
  {
   "cell_type": "markdown",
   "metadata": {},
   "source": [
    "- We set a threshold value of 2 and then uses NumPy’s np.where() to identify the positions (indices) in the Z-score array z where the absolute Z score is greater than the specified threshold (2). It prints the positions of the outliers in the ‘age’ column based on the Z-score criterion."
   ]
  },
  {
   "cell_type": "code",
   "execution_count": 74,
   "metadata": {},
   "outputs": [
    {
     "name": "stdout",
     "output_type": "stream",
     "text": [
      "Original DataFrame Shape: (442, 10)\n",
      "DataFrame Shape after Removing Outliers: (426, 10)\n"
     ]
    }
   ],
   "source": [
    "# Setting the threshold for identifying outliers as z > 2\n",
    "threshold_z = 2\n",
    "\n",
    "# Finding indices of outliers using the threshold\n",
    "outlier_indices = np.where(z > threshold_z)[0]\n",
    "\n",
    "# Removing outliers from the DataFrame\n",
    "no_outliers = df_diabetics.drop(outlier_indices)\n",
    "\n",
    "# Displaying the shape of the DataFrame before and after removing outliers\n",
    "print(\"Original DataFrame Shape:\", df_diabetics.shape)\n",
    "print(\"DataFrame Shape after Removing Outliers:\", no_outliers.shape)"
   ]
  },
  {
   "cell_type": "markdown",
   "metadata": {},
   "source": [
    "## IQR (Inter Quartile Range)"
   ]
  },
  {
   "cell_type": "code",
   "execution_count": 75,
   "metadata": {},
   "outputs": [
    {
     "name": "stdout",
     "output_type": "stream",
     "text": [
      "0.06520763046978838\n"
     ]
    }
   ],
   "source": [
    "# Calculating the Interquartile Range (IQR) for the 'bmi' column\n",
    "Q1 = np.percentile(df_diabetics['bmi'], 25, method='midpoint')\n",
    "Q3 = np.percentile(df_diabetics['bmi'], 75, method='midpoint')\n",
    "IQR = Q3 - Q1\n",
    "\n",
    "# Printing the calculated IQR\n",
    "print(IQR)"
   ]
  },
  {
   "cell_type": "code",
   "execution_count": 76,
   "metadata": {},
   "outputs": [
    {
     "name": "stdout",
     "output_type": "stream",
     "text": [
      "Upper Bound: 0.12879000811776306\n",
      "3\n",
      "Lower Bound: -0.13204051376139045\n",
      "0\n"
     ]
    }
   ],
   "source": [
    "# Above Upper bound\n",
    "upper = Q3+1.5*IQR\n",
    "upper_array = np.array(df_diabetics['bmi'] >= upper)\n",
    "print(\"Upper Bound:\", upper)\n",
    "print(upper_array.sum())\n",
    "\n",
    "# Below Lower bound\n",
    "lower = Q1-1.5*IQR\n",
    "lower_array = np.array(df_diabetics['bmi'] <= lower)\n",
    "print(\"Lower Bound:\", lower)\n",
    "print(lower_array.sum())"
   ]
  }
 ],
 "metadata": {
  "kernelspec": {
   "display_name": "Python 3",
   "language": "python",
   "name": "python3"
  },
  "language_info": {
   "codemirror_mode": {
    "name": "ipython",
    "version": 3
   },
   "file_extension": ".py",
   "mimetype": "text/x-python",
   "name": "python",
   "nbconvert_exporter": "python",
   "pygments_lexer": "ipython3",
   "version": "3.12.0"
  }
 },
 "nbformat": 4,
 "nbformat_minor": 2
}
