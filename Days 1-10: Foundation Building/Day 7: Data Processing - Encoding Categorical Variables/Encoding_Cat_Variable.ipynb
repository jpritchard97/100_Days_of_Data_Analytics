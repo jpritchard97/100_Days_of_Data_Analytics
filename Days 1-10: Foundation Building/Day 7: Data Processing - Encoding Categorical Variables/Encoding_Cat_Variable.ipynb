{
 "cells": [
  {
   "cell_type": "markdown",
   "metadata": {},
   "source": [
    "# Day 7: Data Pre­pro­cessing - En­cod­ing Cat­egor­ic­al Vari­ables\n",
    "\n",
    "## Task: \n",
    "- En­co­de ca­te­go­ri­cal va­ria­bles into nu­me­ri­cal for­mat.\n",
    "\n",
    "## De­scrip­tion: \n",
    "- Use tech­niques like one-hot en­cod­ing or la­bel en­cod­ing\n",
    "to con­vert cat­e­gor­i­cal vari­ables into a for­mat suit­able for ma­chine learning mod­els. "
   ]
  },
  {
   "cell_type": "markdown",
   "metadata": {},
   "source": [
    "## What are Encoding Categorical Variables?\n",
    "\n",
    "- In data preprocessing, encoding categorical variables is a crucial step to prepare the data for machine learning models. There are several techniques for encoding categorical variables into numerical formats, including one-hot encoding and label encoding."
   ]
  },
  {
   "cell_type": "markdown",
   "metadata": {},
   "source": [
    "## What is Label Encoding?\n",
    "\n",
    "- Label encoding involves assigning a unique integer to each category in a categorical variable.\n",
    "\n",
    "- It's suitable for ordinal categorical variables where there's an inherent order among categories."
   ]
  },
  {
   "cell_type": "code",
   "execution_count": 20,
   "metadata": {},
   "outputs": [],
   "source": [
    "from sklearn.preprocessing import LabelEncoder\n",
    "import pandas as pd\n",
    "import numpy as np"
   ]
  },
  {
   "cell_type": "markdown",
   "metadata": {},
   "source": [
    "# Label Encoding:\n",
    "- Label encoding assigns a unique integer to each category in the categorical variable."
   ]
  },
  {
   "cell_type": "code",
   "execution_count": 21,
   "metadata": {},
   "outputs": [],
   "source": [
    "# Load dataset\n",
    "suicide_data_le = pd.read_csv(\"suicide_rates_1990-2022.csv\")\n",
    "\n",
    "# Assuming 'CountryName' is the column with country names\n",
    "country_labels = suicide_data_le['CountryName']\n",
    "\n",
    "# Initialize LabelEncoder\n",
    "label_encoder = LabelEncoder()\n",
    "\n",
    "# Fit and transform country labels\n",
    "encoded_countries = label_encoder.fit_transform(country_labels)\n",
    "\n",
    "# Replace the original 'CountryName' column with the encoded values\n",
    "suicide_data_le['CountryName'] = encoded_countries\n"
   ]
  },
  {
   "cell_type": "markdown",
   "metadata": {},
   "source": [
    "# One-Hot Encoding:\n",
    "- One-hot encoding creates binary columns for each category in the categorical variable. I can use pandas' get_dummies() function for this."
   ]
  },
  {
   "cell_type": "code",
   "execution_count": 22,
   "metadata": {},
   "outputs": [],
   "source": [
    "# Load dataset\n",
    "suicide_data = pd.read_csv(\"suicide_rates_1990-2022.csv\")\n",
    "\n",
    "# Assuming 'country' is the column with country names\n",
    "country_dummies = pd.get_dummies(suicide_data['CountryName'], prefix='CountryName')\n",
    "\n",
    "# Concatenate the one-hot encoded columns with the original dataframe\n",
    "suicide_data = pd.concat([suicide_data, country_dummies], axis=1)\n",
    "\n",
    "# Drop the original 'CountryName' column if needed\n",
    "suicide_data.drop('CountryName', axis=1, inplace=True)\n"
   ]
  }
 ],
 "metadata": {
  "kernelspec": {
   "display_name": "Python 3",
   "language": "python",
   "name": "python3"
  },
  "language_info": {
   "codemirror_mode": {
    "name": "ipython",
    "version": 3
   },
   "file_extension": ".py",
   "mimetype": "text/x-python",
   "name": "python",
   "nbconvert_exporter": "python",
   "pygments_lexer": "ipython3",
   "version": "3.12.0"
  }
 },
 "nbformat": 4,
 "nbformat_minor": 2
}
